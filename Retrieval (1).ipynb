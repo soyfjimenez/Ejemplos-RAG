{
  "nbformat": 4,
  "nbformat_minor": 0,
  "metadata": {
    "colab": {
      "provenance": [],
      "collapsed_sections": [
        "dHZJOCmqqUY6",
        "uPx0xo1C5eIs"
      ]
    },
    "kernelspec": {
      "name": "python3",
      "display_name": "Python 3"
    },
    "language_info": {
      "name": "python"
    }
  },
  "cells": [
    {
      "cell_type": "markdown",
      "source": [
        "# Guardamos las credenciales"
      ],
      "metadata": {
        "id": "T73VBlFPLnzm"
      }
    },
    {
      "cell_type": "code",
      "source": [
        "import os\n",
        "os.environ[\"OPENAI_API_KEY\"] = \"\"\n",
        "os.environ[\"QDRANT_URL\"] = \"\"\n",
        "os.environ[\"QDRANT_API_KEY\"] = \"\""
      ],
      "metadata": {
        "id": "-ynCq2caLg0W"
      },
      "execution_count": null,
      "outputs": []
    },
    {
      "cell_type": "markdown",
      "source": [
        "## Instalamos dependencias"
      ],
      "metadata": {
        "id": "dHZJOCmqqUY6"
      }
    },
    {
      "cell_type": "code",
      "source": [
        "!pip install -qU langchain-openai\n",
        "!pip install -qU langchain-qdrant\n",
        "!pip install os"
      ],
      "metadata": {
        "colab": {
          "base_uri": "https://localhost:8080/"
        },
        "collapsed": true,
        "id": "XMANAr82jGNS",
        "outputId": "98127ccb-e7c0-40e1-d33c-4c39065acdbe"
      },
      "execution_count": null,
      "outputs": [
        {
          "output_type": "stream",
          "name": "stdout",
          "text": [
            "\u001b[31mERROR: Could not find a version that satisfies the requirement os (from versions: none)\u001b[0m\u001b[31m\n",
            "\u001b[0m\u001b[31mERROR: No matching distribution found for os\u001b[0m\u001b[31m\n",
            "\u001b[0m"
          ]
        }
      ]
    },
    {
      "cell_type": "code",
      "execution_count": null,
      "metadata": {
        "id": "gbT7nAaiie24"
      },
      "outputs": [],
      "source": [
        "from langchain_qdrant import QdrantVectorStore\n",
        "from langchain_openai import OpenAIEmbeddings\n",
        "\n",
        "embeddings = OpenAIEmbeddings(model=\"text-embedding-3-large\")"
      ]
    },
    {
      "cell_type": "markdown",
      "source": [
        "## Accedemos a nuestro VectorStore ya creado, que tiene cargado los documentos\n",
        "\n"
      ],
      "metadata": {
        "id": "7BJk89ld1nTR"
      }
    },
    {
      "cell_type": "code",
      "source": [
        "url = os.environ[\"QDRANT_URL\"]\n",
        "api_key = os.environ[\"QDRANT_API_KEY\"]\n",
        "qdrant = QdrantVectorStore.from_existing_collection(\n",
        "    embedding=embeddings,\n",
        "    url=url,\n",
        "    api_key=api_key,\n",
        "    collection_name=\"mi_primer_rag\",\n",
        "\n",
        ")"
      ],
      "metadata": {
        "id": "3M7IwfyQ0ifV"
      },
      "execution_count": null,
      "outputs": []
    },
    {
      "cell_type": "markdown",
      "source": [
        "## Buscar con y sin score de similaridad"
      ],
      "metadata": {
        "id": "iXEAAPf45AEs"
      }
    },
    {
      "cell_type": "code",
      "source": [
        "results = qdrant.similarity_search(\n",
        "    \"La giralda\", k=1\n",
        ")\n",
        "#print(results)\n",
        "for res in results:\n",
        "    print(f\"* CONTENIDO{res.page_content} METADATA:{res.metadata} {res}\")"
      ],
      "metadata": {
        "colab": {
          "base_uri": "https://localhost:8080/"
        },
        "id": "ksyuBfNO46K3",
        "outputId": "d164f07f-77ff-450e-f5c2-883b7022edbb"
      },
      "execution_count": null,
      "outputs": [
        {
          "output_type": "stream",
          "name": "stdout",
          "text": [
            "* CONTENIDO/\n",
            "Guía Práctica de Sevilla\n",
            "QUÉ VISITAR\n",
            "21\n",
            "MONUMENTOS  \n",
            "PATRIMONIO\n",
            "DE LA HUMANIDAD,\n",
            "SANTA CRUZ Y \n",
            "SAN BARTOLOMÉ\n",
            "ZONA 1/\n",
            "La Catedral de Santa María de la Sede es el mayor templo \n",
            "gótico del mundo y el tercer templo de la Cristiandad, tras \n",
            "San Pedro del Vaticano y San Pablo de Londres. Construida \n",
            "sobre el lugar que ocupaba la principal mezquita almohade, \n",
            "las obras se comenzaron en el siglo XV. De la antigua \n",
            "mezquita se conservan aún restos, como su alminar, la \n",
            "Giralda, símbolo de la ciudad, y el patio de los Naranjos, \n",
            "patio de abluciones. \n",
            "En la Catedral trabajaron algunos de los principales artistas \n",
            "de la época, y durante su proceso constructivo se añadieron \n",
            "elementos renacentistas, barrocos y neoclásicos. Sus \n",
            "numerosas capillas guardan magníficas obras de arte, como \n",
            "cuadros de Murillo, Goya o Zurbarán; esculturas de Martínez \n",
            "Montañés, Juan de Mesa o Alonso Cano; obras de orfebrería \n",
            "como la urna del Rey San Fernando, realizada por Juan \n",
            "Laureano de Pina y hermosas vidrieras.\n",
            "Destacar el magnífico Retablo Mayor, diseñado por el \n",
            "escultor flamenco Pierre Dancart en 1482 y considerado el \n",
            "mayor retablo de la Cristiandad; la Sacristía de los Cálices, \n",
            "donde se puede admirar la pintura de Goya “Santas Justa \n",
            "Aconsejamos la visita de los tres monumentos declarados \n",
            "Patrimonio de la Humanidad por la UNESCO en 1987: \n",
            "Catedral y Giralda, Alcázar y Archivo de Indias.  METADATA:{'source': 'https://tic.visitasevilla.es/vsev/Web_php/imatges/guias/18189629ef0f8b27f2129128139.pdf', 'city': 'Sevilla', 'page_label': '21', 'page': 20, '_id': 'c8f7a1ff-675b-4b70-b460-6f32fd05040d', '_collection_name': 'mi_primer_rag'} page_content='/\n",
            "Guía Práctica de Sevilla\n",
            "QUÉ VISITAR\n",
            "21\n",
            "MONUMENTOS  \n",
            "PATRIMONIO\n",
            "DE LA HUMANIDAD,\n",
            "SANTA CRUZ Y \n",
            "SAN BARTOLOMÉ\n",
            "ZONA 1/\n",
            "La Catedral de Santa María de la Sede es el mayor templo \n",
            "gótico del mundo y el tercer templo de la Cristiandad, tras \n",
            "San Pedro del Vaticano y San Pablo de Londres. Construida \n",
            "sobre el lugar que ocupaba la principal mezquita almohade, \n",
            "las obras se comenzaron en el siglo XV. De la antigua \n",
            "mezquita se conservan aún restos, como su alminar, la \n",
            "Giralda, símbolo de la ciudad, y el patio de los Naranjos, \n",
            "patio de abluciones. \n",
            "En la Catedral trabajaron algunos de los principales artistas \n",
            "de la época, y durante su proceso constructivo se añadieron \n",
            "elementos renacentistas, barrocos y neoclásicos. Sus \n",
            "numerosas capillas guardan magníficas obras de arte, como \n",
            "cuadros de Murillo, Goya o Zurbarán; esculturas de Martínez \n",
            "Montañés, Juan de Mesa o Alonso Cano; obras de orfebrería \n",
            "como la urna del Rey San Fernando, realizada por Juan \n",
            "Laureano de Pina y hermosas vidrieras.\n",
            "Destacar el magnífico Retablo Mayor, diseñado por el \n",
            "escultor flamenco Pierre Dancart en 1482 y considerado el \n",
            "mayor retablo de la Cristiandad; la Sacristía de los Cálices, \n",
            "donde se puede admirar la pintura de Goya “Santas Justa \n",
            "Aconsejamos la visita de los tres monumentos declarados \n",
            "Patrimonio de la Humanidad por la UNESCO en 1987: \n",
            "Catedral y Giralda, Alcázar y Archivo de Indias. ' metadata={'source': 'https://tic.visitasevilla.es/vsev/Web_php/imatges/guias/18189629ef0f8b27f2129128139.pdf', 'city': 'Sevilla', 'page_label': '21', 'page': 20, '_id': 'c8f7a1ff-675b-4b70-b460-6f32fd05040d', '_collection_name': 'mi_primer_rag'}\n"
          ]
        }
      ]
    },
    {
      "cell_type": "code",
      "source": [
        "results = qdrant.similarity_search_with_score(\n",
        "    \"Oso panda\", k=1\n",
        ")\n",
        "print(results)"
      ],
      "metadata": {
        "colab": {
          "base_uri": "https://localhost:8080/"
        },
        "id": "xTarGX0c03DA",
        "outputId": "0b86077d-10a3-4449-9915-84908b8dd966"
      },
      "execution_count": null,
      "outputs": [
        {
          "output_type": "stream",
          "name": "stdout",
          "text": [
            "[(Document(metadata={'page_label': '14', 'city': 'Malaga', 'source': 'https://www.spain.info/export/sites/segtur/.content/Folletos/folletos/Malaga_ES.pdf', 'page': 13, '_id': '6705751a-3b79-4eb4-b345-58bbd9a58943', '_collection_name': 'mi_primer_rag'}, page_content='14\\nANTEQUERA\\nFamosa por sus dulces navideños ar -\\ntesanales, paseando por su centro des -\\ncubrirás palacios, conventos, ermitas, \\ncasas señoriales y hasta una Alcazaba. \\nEncontrarás construcciones de la Edad \\nde Bronce, como el Dolmen de la Cueva \\nde Menga.\\nMálaga presume de ser una de las pro -\\nvincias más montañosas de España. \\nPractica el senderismo en entornos es -\\npectaculares como el T orcal de Ante -\\nquera, un paraje natural con extrañas \\nformaciones en roca kárstica.\\nEl colorido del invierno malagueño gira \\nen\\ttorno\\ta\\tla\\tfloración\\tdel\\talmendro.\\tLo-\\ncalidades como Casabermeja, Arenas, \\nArdales, Carratraca, Almogía, Periana \\no Guaro se llenan de tonalidades blan -\\ncas y rosáceas.\\nSi vienes con toda la familia, encontra -\\nrás muchas cosas que hacer. En todas \\nsus playas se respira un ambiente muy \\ntranquilo y familiar. Un plan que encan -\\ntará a los más pequeños es daros un pa-\\nseo de ida y vuelta en barco hasta pue -\\nblos como Benalmádena, Fuengirola y \\nT orremolinos o adentraros en el mar en \\nbusca\\tde\\tdelfines.\\nMálaga también tiene unos parques te -\\nmáticos increíbles. Visitad el Aqualand \\nT orremolinos para disfrutar de juegos \\nacuáticos y un minigolf. Bajad 80 metros \\na toda velocidad, meteos en una piscina \\nde olas o sumergíos en la realidad vir -\\ntual en el Aquavelis Parque Acuático.\\nAsomaos a las selvas de Madagascar o \\nel Sudeste asiático en Bioparc Fuen -\\ngirola. Selwo Aventura , en Estepona, \\nos propone una apasionante aventura \\nafricana. Conoceréis su fauna y atrave -\\nsaréis puentes colgantes. Atreveos con \\nla gran tirolina Ziwa sobre el lago de \\nÁfrica.\\nEn Benalmádena, viviréis experiencias \\núnicas\\tcon\\tdelfines,\\tleones\\tmarinos\\to\\t\\npingüinos en Selwo Marina. T ambién \\npodréis disfrutar en el Sea Life, descu -\\nbriendo a las sorprendentes criaturas \\nque habitan el fondo del mar.\\n a TORCAL DE ANTEQUERA\\n a SELWO MARINA\\nBENALMÁDENAFoto: Selwo Marina/Benalmádena'), 0.25624785)]\n"
          ]
        }
      ]
    },
    {
      "cell_type": "markdown",
      "source": [
        "# Usando Qdrant Client"
      ],
      "metadata": {
        "id": "uPx0xo1C5eIs"
      }
    },
    {
      "cell_type": "code",
      "source": [
        "from qdrant_client import QdrantClient"
      ],
      "metadata": {
        "id": "K6wildCN5829"
      },
      "execution_count": null,
      "outputs": []
    },
    {
      "cell_type": "code",
      "source": [
        "qdrant_client = QdrantClient(\n",
        "  url = os.environ[\"QDRANT_URL\"],\n",
        "  api_key = os.environ[\"QDRANT_API_KEY\"]\n",
        ")"
      ],
      "metadata": {
        "id": "RD4tc7t95-As"
      },
      "execution_count": null,
      "outputs": []
    },
    {
      "cell_type": "code",
      "source": [
        "vector_store = QdrantVectorStore(\n",
        "    client=qdrant_client,\n",
        "    collection_name= \"mi_primer_rag\",\n",
        "    embedding=embeddings,\n",
        ")"
      ],
      "metadata": {
        "id": "7bzkmLjCnvNv"
      },
      "execution_count": null,
      "outputs": []
    },
    {
      "cell_type": "code",
      "source": [
        "query = \"La giralda\"\n",
        "query_vector = embeddings.embed_query(query)"
      ],
      "metadata": {
        "id": "CoCkiq0j6BL2"
      },
      "execution_count": null,
      "outputs": []
    },
    {
      "cell_type": "code",
      "source": [
        "results = qdrant_client.search(\n",
        "    collection_name=\"mi_primer_rag\",\n",
        "    query_vector=query_vector,\n",
        "    limit=1,  # Número de resultados a devolver\n",
        ")\n",
        "\n",
        "# Imprimir resultados\n",
        "for i, result in enumerate(results):\n",
        "    print(f\"Resultado {i + 1}:\")\n",
        "    print(f\"* CONTENIDO: {result.payload.get('page_content')}\")\n",
        "    print(f\"* METADATA: {result.payload.get('metadata', 'No disponible')}\")\n",
        "    print(f\"* SCORE: {result.score}\")"
      ],
      "metadata": {
        "colab": {
          "base_uri": "https://localhost:8080/"
        },
        "id": "w_LxqQlGB815",
        "outputId": "5a42932a-3659-4702-b1fb-5d4d67d82203"
      },
      "execution_count": null,
      "outputs": [
        {
          "output_type": "stream",
          "name": "stdout",
          "text": [
            "Resultado 1:\n",
            "* CONTENIDO: /\n",
            "Guía Práctica de Sevilla\n",
            "QUÉ VISITAR\n",
            "21\n",
            "MONUMENTOS  \n",
            "PATRIMONIO\n",
            "DE LA HUMANIDAD,\n",
            "SANTA CRUZ Y \n",
            "SAN BARTOLOMÉ\n",
            "ZONA 1/\n",
            "La Catedral de Santa María de la Sede es el mayor templo \n",
            "gótico del mundo y el tercer templo de la Cristiandad, tras \n",
            "San Pedro del Vaticano y San Pablo de Londres. Construida \n",
            "sobre el lugar que ocupaba la principal mezquita almohade, \n",
            "las obras se comenzaron en el siglo XV. De la antigua \n",
            "mezquita se conservan aún restos, como su alminar, la \n",
            "Giralda, símbolo de la ciudad, y el patio de los Naranjos, \n",
            "patio de abluciones. \n",
            "En la Catedral trabajaron algunos de los principales artistas \n",
            "de la época, y durante su proceso constructivo se añadieron \n",
            "elementos renacentistas, barrocos y neoclásicos. Sus \n",
            "numerosas capillas guardan magníficas obras de arte, como \n",
            "cuadros de Murillo, Goya o Zurbarán; esculturas de Martínez \n",
            "Montañés, Juan de Mesa o Alonso Cano; obras de orfebrería \n",
            "como la urna del Rey San Fernando, realizada por Juan \n",
            "Laureano de Pina y hermosas vidrieras.\n",
            "Destacar el magnífico Retablo Mayor, diseñado por el \n",
            "escultor flamenco Pierre Dancart en 1482 y considerado el \n",
            "mayor retablo de la Cristiandad; la Sacristía de los Cálices, \n",
            "donde se puede admirar la pintura de Goya “Santas Justa \n",
            "Aconsejamos la visita de los tres monumentos declarados \n",
            "Patrimonio de la Humanidad por la UNESCO en 1987: \n",
            "Catedral y Giralda, Alcázar y Archivo de Indias. \n",
            "* METADATA: {'source': 'https://tic.visitasevilla.es/vsev/Web_php/imatges/guias/18189629ef0f8b27f2129128139.pdf', 'city': 'Sevilla', 'page_label': '21', 'page': 20}\n",
            "* SCORE: 0.531613\n"
          ]
        },
        {
          "output_type": "stream",
          "name": "stderr",
          "text": [
            "<ipython-input-12-b6ff5c405482>:1: DeprecationWarning: `search` method is deprecated and will be removed in the future. Use `query_points` instead.\n",
            "  results = qdrant_client.search(\n"
          ]
        }
      ]
    },
    {
      "cell_type": "markdown",
      "source": [
        "# Filtrando por Metadata\n",
        "\n"
      ],
      "metadata": {
        "id": "xvCvvuQ8gg4a"
      }
    },
    {
      "cell_type": "markdown",
      "source": [
        "## Definimos el filtro -> https://qdrant.tech/documentation/concepts/filtering/"
      ],
      "metadata": {
        "id": "2dZfUX0EqEaQ"
      }
    },
    {
      "cell_type": "code",
      "source": [
        "from qdrant_client.http import models\n",
        "\n",
        "search_filter = models.Filter(\n",
        "    should=[\n",
        "        models.FieldCondition(\n",
        "           key=\"metadata.city\", match={\"value\": \"Malaga\"}\n",
        "        ),\n",
        "    ]\n",
        ")"
      ],
      "metadata": {
        "id": "fZeZTbYMlYMD"
      },
      "execution_count": null,
      "outputs": []
    },
    {
      "cell_type": "code",
      "source": [
        "results = vector_store.similarity_search(\n",
        "    query=\"Bares\",\n",
        "    k =3,  # Número de resultados a devolver\n",
        "    filter=search_filter  # Aplicar el filtro\n",
        ")\n",
        "\n",
        "# Imprimir resultados\n",
        "for i, result in enumerate(results):\n",
        "    print(f\"Resultado {i + 1}:\")\n",
        "    print(f\"* CONTENIDO: {result}\")"
      ],
      "metadata": {
        "colab": {
          "base_uri": "https://localhost:8080/"
        },
        "id": "rUc4E6xulbXk",
        "outputId": "d2ed0123-913d-40c8-aba1-9548aecd1764"
      },
      "execution_count": null,
      "outputs": [
        {
          "output_type": "stream",
          "name": "stdout",
          "text": [
            "Resultado 1:\n",
            "* CONTENIDO: page_content='4\n",
            "Recorre la ciudad de Málaga y descubre la personalidad de cada uno de sus barrios. \n",
            "Estos son los imprescindibles. \n",
            "CENTRO HISTÓRICO\n",
            "Pasea por sus animadas calles peatona -\n",
            "les, repletas de bares y restaurantes. La \n",
            "plaza de la Constitución es centro neu -\n",
            "rálgico de la vida malagueña. Cerca en -\n",
            "contrarás la Iglesia de los Santos Márti-\n",
            "res (siglos XV-XVIII).\n",
            "En el casco antiguo te sorprenderá la in-\n",
            "acabada torre derecha de la Catedral (si-\n",
            "glos XVI-XVIII), el Palacio Episcopal (siglos \n",
            "XVI-XVIII) y Centro Cultural Fundación \n",
            "Unicaja Málaga, un espacio dedicado a ex-\n",
            "posiciones artísticas. A los pies del monte \n",
            "Gibralfaro descubrirás el T eatro Romano \n",
            "(siglo I a. C.) y la Alcazaba (siglo XI), una \n",
            "fortaleza árabe símbolo de la ciudad. \n",
            "Si te gustan las compras, en la calle del \n",
            "Marqués de Larios tienes las principales \n",
            "marcas de moda.\n",
            "4\n",
            "VIVE MÁLAGA  \n",
            "BARRIO A BARRIO\n",
            "MÁLAGA\n",
            " a CALLE DEL MARQUÉS DE LARIOS\n",
            " a PALACIO EPISCOPAL' metadata={'city': 'Malaga', 'source': 'https://www.spain.info/export/sites/segtur/.content/Folletos/folletos/Malaga_ES.pdf', 'page_label': '4', 'page': 3, '_id': 'e3c45d0d-a752-4c8e-9135-2e4c8e1be6a7', '_collection_name': 'mi_primer_rag'}\n",
            "Resultado 2:\n",
            "* CONTENIDO: page_content='LA CIUDAD ESCONDIDA\n",
            "En el cementerio Inglés , primer ce -\n",
            "menterio protestante en España, \n",
            "encontrarás especies de vegetación \n",
            "exótica, en un jardín histórico artísti -\n",
            "co de los siglos XIX y XX. \n",
            "MUSEOS SECRETOS\n",
            "En el Museo de Artes y Costumbres \n",
            "Populares conocerás la forma de \n",
            "vida de los malagueños del siglo XIX, \n",
            "en una antigua posada del siglo XVII. \n",
            "Para retroceder hasta la prehistoria, \n",
            "en la barriada de La Araña descubri -\n",
            "rás el Yacimiento Arqueológico de la \n",
            "Araña. \n",
            "Si\tprefieres\thacer\tel\trecorrido\thistó-\n",
            "rico de Málaga a través de pinturas, \n",
            "esculturas\ty\tobras\tgráficas,\tacércate\t\n",
            "al Museo del Patrimonio Municipal \n",
            "(MUPAM). \n",
            "En el Museo del Vino podrás conocer \n",
            "la evolución de la fabricación del vino \n",
            "y participar de una cata. \n",
            "Si sientes curiosidad por la artesanía \n",
            "y la decoración, visita el antiguo ba -\n",
            "rrio artesano de San Felipe de Neri \n",
            "donde encontrarás el Museo del Vi -\n",
            "drio y Cristal. \n",
            "Para sumergirte en el mundo de \n",
            "los instrumentos musicales, visita \n",
            "el Museo Interactivo de la Música  \n",
            "(MIMMA). \n",
            "MONUMENTOS \n",
            "El Antiguo Conservatorio María \n",
            "Cristina\tes\tun\tbello\tedificio\tdel\tsiglo\t\n",
            "XV, originalmente de estilo mudéjar.\n",
            "Visita el mercado central de Atara -\n",
            "zanas, un ejemplo de la arquitectura \n",
            "malagueña del siglo XIX, o la singular \n",
            "arquitectura neoárabe del mercado \n",
            "de Salamanca.\n",
            "TEJADOS DE MÁLAGA \n",
            "El mirador de Gibralfaro  te regalará \n",
            "las mejores vistas de la ciudad. Pue -\n",
            "des llegar atravesando los jardines \n",
            "de Puerta Oscura.\n",
            "VIVIR LA NOCHE \n",
            "Recorre las calles desde la plaza de \n",
            "la Merced hasta la plaza de la Cons -\n",
            "titución, una de las principales zonas \n",
            "de\tmarcha.\tSi\tprefieres\tespacios\tmás\t\n",
            "relajados, visita La Malagueta, Mue-\n",
            "lle Uno  o el paseo marítimo de Pe -\n",
            "dregalejo. \n",
            "Si quieres divertirte fuera de la ciu -\n",
            "dad, tienes los centros de ocio Plaza \n",
            "Mayor o Málaga Nostrum.\n",
            " a BODEGA EL PIMPI\n",
            "11' metadata={'page': 10, 'page_label': '11', 'city': 'Malaga', 'source': 'https://www.spain.info/export/sites/segtur/.content/Folletos/folletos/Malaga_ES.pdf', '_id': 'c7e74475-cfb1-416c-b37a-d64c92b419dc', '_collection_name': 'mi_primer_rag'}\n",
            "Resultado 3:\n",
            "* CONTENIDO: page_content='18\n",
            "@spain @spain Spain.info /spain\n",
            "' metadata={'source': 'https://www.spain.info/export/sites/segtur/.content/Folletos/folletos/Malaga_ES.pdf', 'page_label': '18', 'city': 'Malaga', 'page': 17, '_id': '82c92209-c431-4fe0-8e33-69d3464afee8', '_collection_name': 'mi_primer_rag'}\n"
          ]
        }
      ]
    }
  ]
}